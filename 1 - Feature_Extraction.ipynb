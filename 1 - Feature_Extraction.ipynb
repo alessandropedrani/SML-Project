{
 "cells": [
  {
   "cell_type": "code",
   "execution_count": 3,
   "metadata": {},
   "outputs": [],
   "source": [
    "###load libraries and set parameters\n",
    "import os\n",
    "import sys\n",
    "import matplotlib.pyplot as plt\n",
    "import sklearn\n",
    "import librosa.display\n",
    "import numpy\n",
    "import json"
   ]
  },
  {
   "cell_type": "markdown",
   "metadata": {},
   "source": [
    "# Check for duplicates\n",
    "First of all check if any of the selected song has the same name, and if so, to avoid problems modify the names."
   ]
  },
  {
   "cell_type": "code",
   "execution_count": null,
   "metadata": {},
   "outputs": [],
   "source": [
    "###TODO: write a function to check for duplicate"
   ]
  },
  {
   "cell_type": "markdown",
   "metadata": {},
   "source": [
    "# Parse song to extract features\n",
    "Here we provide the code to extract the mffc from the song in our database. We extract both normalized *song-by-song* and unnormalized mfcc's. Normalized ones are usefull for the classification while for visualization purposes is better to look at unormalized features and eventually normalize them globally (not *song by song*)."
   ]
  },
  {
   "cell_type": "code",
   "execution_count": 4,
   "metadata": {},
   "outputs": [],
   "source": [
    "###set parameters:\n",
    "\n",
    "fs=6000      #sampling rate, default in librosa is 22050\n",
    "offset=30    #load song with specified offset in sec\n",
    "duration=60  #portion of the song to load in sec\n",
    "n_mfcc=12    #number of mfccs to extract, default is 20, other good value (to reduce dimension) is 12"
   ]
  },
  {
   "cell_type": "code",
   "execution_count": 6,
   "metadata": {},
   "outputs": [
    {
     "data": {
      "text/plain": [
       "'###define function to extract features using parameter set above\\nscaler = sklearn.preprocessing.StandardScaler()##to normalize mfcc\\ndef create_mfcc(walk_dir):\\n    x = []\\n    x1 = []\\n    #c = 0\\n    for root, subdirs, files in os.walk(walk_dir):\\n        for filename in files:\\n            if \".mp3\" in filename:\\n                file_path = os.path.join(root, filename)\\n                artist=root.split(\"\\\\\")[1]\\n                song=filename.split(\" \",1)[1].split(\".\")[0]\\n                print(\"processing:\"+song)\\n                a = librosa.load(file_path,duration=duration,offset=offset,sr=fs)[0]\\n                mfcc = librosa.feature.mfcc(a, sr=fs,n_mfcc=n_mfcc).T\\n                mfcc_s = scaler.fit_transform(mfcc)\\n                x.append({\"artist\": artist,\"song\": song,\"mfcc\":mfcc_s})\\n                x1.append({\"artist\": artist,\"song\": song,\"mfcc\":mfcc})\\n    return(x,x1)'"
      ]
     },
     "execution_count": 6,
     "metadata": {},
     "output_type": "execute_result"
    }
   ],
   "source": [
    "###define function to extract features using parameter set above\n",
    "scaler = sklearn.preprocessing.StandardScaler()##to normalize mfcc\n",
    "def create_mfcc(walk_dir):\n",
    "    x = []\n",
    "    x1 = []\n",
    "    #c = 0\n",
    "    for root, subdirs, files in os.walk(walk_dir):\n",
    "        for filename in files:\n",
    "            if \".mp3\" in filename:\n",
    "                file_path = os.path.join(root, filename)\n",
    "                artist=root.split(\"\\\\\")[1]\n",
    "                song=filename.split(\" \",1)[1].split(\".\")[0]\n",
    "                print(\"processing:\"+song)\n",
    "                a = librosa.load(file_path,duration=duration,offset=offset,sr=fs)[0]\n",
    "                mfcc = librosa.feature.mfcc(a, sr=fs,n_mfcc=n_mfcc).T\n",
    "                mfcc_s = scaler.fit_transform(mfcc)\n",
    "                x.append({\"artist\": artist,\"song\": song,\"mfcc\":mfcc_s})\n",
    "                x1.append({\"artist\": artist,\"song\": song,\"mfcc\":mfcc})\n",
    "    return(x,x1)"
   ]
  },
  {
   "cell_type": "code",
   "execution_count": null,
   "metadata": {},
   "outputs": [],
   "source": [
    "#create a python list of dictionaries {artist, song, mfcc} using above function\n",
    "#x1 are non-nomalized and will be useful for visualization purposes\n",
    "x,x1=create_mfcc(\"canzoni\")"
   ]
  },
  {
   "cell_type": "code",
   "execution_count": 5,
   "metadata": {},
   "outputs": [],
   "source": [
    "#save files with extracted features\n",
    "\n",
    "##convert mfcc from numpy array to list to be able to place them in a json file\n",
    "y=[]\n",
    "for t in x:\n",
    "    y.append({\"artist\": t[\"artist\"],\"song\": t[\"song\"],\"mfcc\":t[\"mfcc\"].tolist()})   \n",
    "y1=[]\n",
    "for t in x1:\n",
    "    y1.append({\"artist\": t[\"artist\"],\"song\": t[\"song\"],\"mfcc\":t[\"mfcc\"].tolist()})\n",
    "\n",
    "#save features\n",
    "with open('x.txt', 'w') as filehandle:\n",
    "    json.dump(y, filehandle)\n",
    "with open('x1.txt', 'w') as filehandle:\n",
    "    json.dump(y1, filehandle)\n",
    "    \n",
    "#save also the sampling rate used to extract features\n",
    "with open('fs.txt', 'w') as filehandle:\n",
    "    json.dump(fs, filehandle)"
   ]
  }
 ],
 "metadata": {
  "kernelspec": {
   "display_name": "Python 3",
   "language": "python",
   "name": "python3"
  },
  "language_info": {
   "codemirror_mode": {
    "name": "ipython",
    "version": 3
   },
   "file_extension": ".py",
   "mimetype": "text/x-python",
   "name": "python",
   "nbconvert_exporter": "python",
   "pygments_lexer": "ipython3",
   "version": "3.7.4"
  }
 },
 "nbformat": 4,
 "nbformat_minor": 2
}
