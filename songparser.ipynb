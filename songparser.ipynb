{
 "cells": [
  {
   "cell_type": "code",
   "execution_count": 1,
   "metadata": {},
   "outputs": [],
   "source": [
    "import os\n",
    "import sys\n",
    "import matplotlib.pyplot as plt\n",
    "import sklearn\n",
    "import librosa.display\n",
    "import numpy\n",
    "\n",
    "fs=22050\n",
    "#fs=11025"
   ]
  },
  {
   "cell_type": "code",
   "execution_count": 2,
   "metadata": {},
   "outputs": [],
   "source": [
    "def create_song_list(walk_dir):\n",
    "    x = {}\n",
    "    #c = 0\n",
    "    for root, subdirs, files in os.walk(walk_dir):\n",
    "        for filename in files:\n",
    "            if \".mp3\" in filename:\n",
    "                file_path = os.path.join(root, filename)\n",
    "                artist=root.split(\"\\\\\")[1]\n",
    "                song=filename.split(\" \",1)[1].split(\".\")[0]\n",
    "                if artist not in x:\n",
    "                    x[artist] = []\n",
    "                x[artist].append((song,file_path))\n",
    "                #print(file_path)\n",
    "                #x.append({\"artist\": artist,\"song\": song,\"path\":file_path})\n",
    "                #a, fs = librosa.load(file_path)\n",
    "                #mfcc = librosa.feature.mfcc(a, sr=fs).t\n",
    "                #x.append({\"artist\": artist,\"song\": song,\"mfcc\":mfcc})\n",
    "    return(x)"
   ]
  },
  {
   "cell_type": "code",
   "execution_count": 3,
   "metadata": {},
   "outputs": [],
   "source": [
    "y=create_song_list(\"canzoni\")"
   ]
  },
  {
   "cell_type": "code",
   "execution_count": 2,
   "metadata": {},
   "outputs": [],
   "source": [
    "#function to create a list of {artist,song,mfcc} with scaled mfcc\n",
    "#one can modify parameters, to load different parts of song\n",
    "#and maybe a different sampling rate\n",
    "scaler = sklearn.preprocessing.StandardScaler()\n",
    "def create_mfcc(walk_dir):\n",
    "    x = []\n",
    "    #c = 0\n",
    "    for root, subdirs, files in os.walk(walk_dir):\n",
    "        for filename in files:\n",
    "            if \".mp3\" in filename:\n",
    "                file_path = os.path.join(root, filename)\n",
    "                artist=root.split(\"\\\\\")[1]\n",
    "                song=filename.split(\" \",1)[1].split(\".\")[0]\n",
    "                print(\"processing:\"+song)\n",
    "                a = librosa.load(file_path,duration=50,offset=10,sr=fs)[0]\n",
    "                mfcc = librosa.feature.mfcc(a, sr=fs).T\n",
    "                mfcc = scaler.fit_transform(mfcc)\n",
    "                x.append({\"artist\": artist,\"song\": song,\"mfcc\":mfcc})\n",
    "    return(x)"
   ]
  },
  {
   "cell_type": "code",
   "execution_count": 3,
   "metadata": {},
   "outputs": [
    {
     "name": "stderr",
     "output_type": "stream",
     "text": [
      "c:\\users\\aless\\appdata\\local\\programs\\python\\python37\\lib\\site-packages\\librosa\\core\\audio.py:146: UserWarning: PySoundFile failed. Trying audioread instead.\n",
      "  warnings.warn('PySoundFile failed. Trying audioread instead.')\n",
      "c:\\users\\aless\\appdata\\local\\programs\\python\\python37\\lib\\site-packages\\librosa\\core\\audio.py:146: UserWarning: PySoundFile failed. Trying audioread instead.\n",
      "  warnings.warn('PySoundFile failed. Trying audioread instead.')\n",
      "c:\\users\\aless\\appdata\\local\\programs\\python\\python37\\lib\\site-packages\\librosa\\core\\audio.py:146: UserWarning: PySoundFile failed. Trying audioread instead.\n",
      "  warnings.warn('PySoundFile failed. Trying audioread instead.')\n",
      "c:\\users\\aless\\appdata\\local\\programs\\python\\python37\\lib\\site-packages\\librosa\\core\\audio.py:146: UserWarning: PySoundFile failed. Trying audioread instead.\n",
      "  warnings.warn('PySoundFile failed. Trying audioread instead.')\n",
      "c:\\users\\aless\\appdata\\local\\programs\\python\\python37\\lib\\site-packages\\librosa\\core\\audio.py:146: UserWarning: PySoundFile failed. Trying audioread instead.\n",
      "  warnings.warn('PySoundFile failed. Trying audioread instead.')\n",
      "c:\\users\\aless\\appdata\\local\\programs\\python\\python37\\lib\\site-packages\\librosa\\core\\audio.py:146: UserWarning: PySoundFile failed. Trying audioread instead.\n",
      "  warnings.warn('PySoundFile failed. Trying audioread instead.')\n",
      "c:\\users\\aless\\appdata\\local\\programs\\python\\python37\\lib\\site-packages\\librosa\\core\\audio.py:146: UserWarning: PySoundFile failed. Trying audioread instead.\n",
      "  warnings.warn('PySoundFile failed. Trying audioread instead.')\n",
      "c:\\users\\aless\\appdata\\local\\programs\\python\\python37\\lib\\site-packages\\librosa\\core\\audio.py:146: UserWarning: PySoundFile failed. Trying audioread instead.\n",
      "  warnings.warn('PySoundFile failed. Trying audioread instead.')\n",
      "c:\\users\\aless\\appdata\\local\\programs\\python\\python37\\lib\\site-packages\\librosa\\core\\audio.py:146: UserWarning: PySoundFile failed. Trying audioread instead.\n",
      "  warnings.warn('PySoundFile failed. Trying audioread instead.')\n",
      "c:\\users\\aless\\appdata\\local\\programs\\python\\python37\\lib\\site-packages\\librosa\\core\\audio.py:146: UserWarning: PySoundFile failed. Trying audioread instead.\n",
      "  warnings.warn('PySoundFile failed. Trying audioread instead.')\n",
      "c:\\users\\aless\\appdata\\local\\programs\\python\\python37\\lib\\site-packages\\librosa\\core\\audio.py:146: UserWarning: PySoundFile failed. Trying audioread instead.\n",
      "  warnings.warn('PySoundFile failed. Trying audioread instead.')\n",
      "c:\\users\\aless\\appdata\\local\\programs\\python\\python37\\lib\\site-packages\\librosa\\core\\audio.py:146: UserWarning: PySoundFile failed. Trying audioread instead.\n",
      "  warnings.warn('PySoundFile failed. Trying audioread instead.')\n",
      "c:\\users\\aless\\appdata\\local\\programs\\python\\python37\\lib\\site-packages\\librosa\\core\\audio.py:146: UserWarning: PySoundFile failed. Trying audioread instead.\n",
      "  warnings.warn('PySoundFile failed. Trying audioread instead.')\n",
      "c:\\users\\aless\\appdata\\local\\programs\\python\\python37\\lib\\site-packages\\librosa\\core\\audio.py:146: UserWarning: PySoundFile failed. Trying audioread instead.\n",
      "  warnings.warn('PySoundFile failed. Trying audioread instead.')\n",
      "c:\\users\\aless\\appdata\\local\\programs\\python\\python37\\lib\\site-packages\\librosa\\core\\audio.py:146: UserWarning: PySoundFile failed. Trying audioread instead.\n",
      "  warnings.warn('PySoundFile failed. Trying audioread instead.')\n",
      "c:\\users\\aless\\appdata\\local\\programs\\python\\python37\\lib\\site-packages\\librosa\\core\\audio.py:146: UserWarning: PySoundFile failed. Trying audioread instead.\n",
      "  warnings.warn('PySoundFile failed. Trying audioread instead.')\n",
      "c:\\users\\aless\\appdata\\local\\programs\\python\\python37\\lib\\site-packages\\librosa\\core\\audio.py:146: UserWarning: PySoundFile failed. Trying audioread instead.\n",
      "  warnings.warn('PySoundFile failed. Trying audioread instead.')\n",
      "c:\\users\\aless\\appdata\\local\\programs\\python\\python37\\lib\\site-packages\\librosa\\core\\audio.py:146: UserWarning: PySoundFile failed. Trying audioread instead.\n",
      "  warnings.warn('PySoundFile failed. Trying audioread instead.')\n",
      "c:\\users\\aless\\appdata\\local\\programs\\python\\python37\\lib\\site-packages\\librosa\\core\\audio.py:146: UserWarning: PySoundFile failed. Trying audioread instead.\n",
      "  warnings.warn('PySoundFile failed. Trying audioread instead.')\n",
      "c:\\users\\aless\\appdata\\local\\programs\\python\\python37\\lib\\site-packages\\librosa\\core\\audio.py:146: UserWarning: PySoundFile failed. Trying audioread instead.\n",
      "  warnings.warn('PySoundFile failed. Trying audioread instead.')\n",
      "c:\\users\\aless\\appdata\\local\\programs\\python\\python37\\lib\\site-packages\\librosa\\core\\audio.py:146: UserWarning: PySoundFile failed. Trying audioread instead.\n",
      "  warnings.warn('PySoundFile failed. Trying audioread instead.')\n",
      "c:\\users\\aless\\appdata\\local\\programs\\python\\python37\\lib\\site-packages\\librosa\\core\\audio.py:146: UserWarning: PySoundFile failed. Trying audioread instead.\n",
      "  warnings.warn('PySoundFile failed. Trying audioread instead.')\n",
      "c:\\users\\aless\\appdata\\local\\programs\\python\\python37\\lib\\site-packages\\librosa\\core\\audio.py:146: UserWarning: PySoundFile failed. Trying audioread instead.\n",
      "  warnings.warn('PySoundFile failed. Trying audioread instead.')\n",
      "c:\\users\\aless\\appdata\\local\\programs\\python\\python37\\lib\\site-packages\\librosa\\core\\audio.py:146: UserWarning: PySoundFile failed. Trying audioread instead.\n",
      "  warnings.warn('PySoundFile failed. Trying audioread instead.')\n",
      "c:\\users\\aless\\appdata\\local\\programs\\python\\python37\\lib\\site-packages\\librosa\\core\\audio.py:146: UserWarning: PySoundFile failed. Trying audioread instead.\n",
      "  warnings.warn('PySoundFile failed. Trying audioread instead.')\n",
      "c:\\users\\aless\\appdata\\local\\programs\\python\\python37\\lib\\site-packages\\librosa\\core\\audio.py:146: UserWarning: PySoundFile failed. Trying audioread instead.\n",
      "  warnings.warn('PySoundFile failed. Trying audioread instead.')\n",
      "c:\\users\\aless\\appdata\\local\\programs\\python\\python37\\lib\\site-packages\\librosa\\core\\audio.py:146: UserWarning: PySoundFile failed. Trying audioread instead.\n",
      "  warnings.warn('PySoundFile failed. Trying audioread instead.')\n",
      "c:\\users\\aless\\appdata\\local\\programs\\python\\python37\\lib\\site-packages\\librosa\\core\\audio.py:146: UserWarning: PySoundFile failed. Trying audioread instead.\n",
      "  warnings.warn('PySoundFile failed. Trying audioread instead.')\n",
      "c:\\users\\aless\\appdata\\local\\programs\\python\\python37\\lib\\site-packages\\librosa\\core\\audio.py:146: UserWarning: PySoundFile failed. Trying audioread instead.\n",
      "  warnings.warn('PySoundFile failed. Trying audioread instead.')\n",
      "c:\\users\\aless\\appdata\\local\\programs\\python\\python37\\lib\\site-packages\\librosa\\core\\audio.py:146: UserWarning: PySoundFile failed. Trying audioread instead.\n",
      "  warnings.warn('PySoundFile failed. Trying audioread instead.')\n",
      "c:\\users\\aless\\appdata\\local\\programs\\python\\python37\\lib\\site-packages\\librosa\\core\\audio.py:146: UserWarning: PySoundFile failed. Trying audioread instead.\n",
      "  warnings.warn('PySoundFile failed. Trying audioread instead.')\n",
      "c:\\users\\aless\\appdata\\local\\programs\\python\\python37\\lib\\site-packages\\librosa\\core\\audio.py:146: UserWarning: PySoundFile failed. Trying audioread instead.\n",
      "  warnings.warn('PySoundFile failed. Trying audioread instead.')\n",
      "c:\\users\\aless\\appdata\\local\\programs\\python\\python37\\lib\\site-packages\\librosa\\core\\audio.py:146: UserWarning: PySoundFile failed. Trying audioread instead.\n",
      "  warnings.warn('PySoundFile failed. Trying audioread instead.')\n",
      "c:\\users\\aless\\appdata\\local\\programs\\python\\python37\\lib\\site-packages\\librosa\\core\\audio.py:146: UserWarning: PySoundFile failed. Trying audioread instead.\n",
      "  warnings.warn('PySoundFile failed. Trying audioread instead.')\n",
      "c:\\users\\aless\\appdata\\local\\programs\\python\\python37\\lib\\site-packages\\librosa\\core\\audio.py:146: UserWarning: PySoundFile failed. Trying audioread instead.\n",
      "  warnings.warn('PySoundFile failed. Trying audioread instead.')\n",
      "c:\\users\\aless\\appdata\\local\\programs\\python\\python37\\lib\\site-packages\\librosa\\core\\audio.py:146: UserWarning: PySoundFile failed. Trying audioread instead.\n",
      "  warnings.warn('PySoundFile failed. Trying audioread instead.')\n",
      "c:\\users\\aless\\appdata\\local\\programs\\python\\python37\\lib\\site-packages\\librosa\\core\\audio.py:146: UserWarning: PySoundFile failed. Trying audioread instead.\n",
      "  warnings.warn('PySoundFile failed. Trying audioread instead.')\n"
     ]
    },
    {
     "name": "stderr",
     "output_type": "stream",
     "text": [
      "c:\\users\\aless\\appdata\\local\\programs\\python\\python37\\lib\\site-packages\\librosa\\core\\audio.py:146: UserWarning: PySoundFile failed. Trying audioread instead.\n",
      "  warnings.warn('PySoundFile failed. Trying audioread instead.')\n",
      "c:\\users\\aless\\appdata\\local\\programs\\python\\python37\\lib\\site-packages\\librosa\\core\\audio.py:146: UserWarning: PySoundFile failed. Trying audioread instead.\n",
      "  warnings.warn('PySoundFile failed. Trying audioread instead.')\n",
      "c:\\users\\aless\\appdata\\local\\programs\\python\\python37\\lib\\site-packages\\librosa\\core\\audio.py:146: UserWarning: PySoundFile failed. Trying audioread instead.\n",
      "  warnings.warn('PySoundFile failed. Trying audioread instead.')\n",
      "c:\\users\\aless\\appdata\\local\\programs\\python\\python37\\lib\\site-packages\\librosa\\core\\audio.py:146: UserWarning: PySoundFile failed. Trying audioread instead.\n",
      "  warnings.warn('PySoundFile failed. Trying audioread instead.')\n",
      "c:\\users\\aless\\appdata\\local\\programs\\python\\python37\\lib\\site-packages\\librosa\\core\\audio.py:146: UserWarning: PySoundFile failed. Trying audioread instead.\n",
      "  warnings.warn('PySoundFile failed. Trying audioread instead.')\n",
      "c:\\users\\aless\\appdata\\local\\programs\\python\\python37\\lib\\site-packages\\librosa\\core\\audio.py:146: UserWarning: PySoundFile failed. Trying audioread instead.\n",
      "  warnings.warn('PySoundFile failed. Trying audioread instead.')\n",
      "c:\\users\\aless\\appdata\\local\\programs\\python\\python37\\lib\\site-packages\\librosa\\core\\audio.py:146: UserWarning: PySoundFile failed. Trying audioread instead.\n",
      "  warnings.warn('PySoundFile failed. Trying audioread instead.')\n",
      "c:\\users\\aless\\appdata\\local\\programs\\python\\python37\\lib\\site-packages\\librosa\\core\\audio.py:146: UserWarning: PySoundFile failed. Trying audioread instead.\n",
      "  warnings.warn('PySoundFile failed. Trying audioread instead.')\n",
      "c:\\users\\aless\\appdata\\local\\programs\\python\\python37\\lib\\site-packages\\librosa\\core\\audio.py:146: UserWarning: PySoundFile failed. Trying audioread instead.\n",
      "  warnings.warn('PySoundFile failed. Trying audioread instead.')\n",
      "c:\\users\\aless\\appdata\\local\\programs\\python\\python37\\lib\\site-packages\\librosa\\core\\audio.py:146: UserWarning: PySoundFile failed. Trying audioread instead.\n",
      "  warnings.warn('PySoundFile failed. Trying audioread instead.')\n",
      "c:\\users\\aless\\appdata\\local\\programs\\python\\python37\\lib\\site-packages\\librosa\\core\\audio.py:146: UserWarning: PySoundFile failed. Trying audioread instead.\n",
      "  warnings.warn('PySoundFile failed. Trying audioread instead.')\n",
      "c:\\users\\aless\\appdata\\local\\programs\\python\\python37\\lib\\site-packages\\librosa\\core\\audio.py:146: UserWarning: PySoundFile failed. Trying audioread instead.\n",
      "  warnings.warn('PySoundFile failed. Trying audioread instead.')\n",
      "c:\\users\\aless\\appdata\\local\\programs\\python\\python37\\lib\\site-packages\\librosa\\core\\audio.py:146: UserWarning: PySoundFile failed. Trying audioread instead.\n",
      "  warnings.warn('PySoundFile failed. Trying audioread instead.')\n"
     ]
    }
   ],
   "source": [
    "#create list of  {artist, song, mfcc} using above function\n",
    "x=create_mfcc(\"canzoni\")"
   ]
  },
  {
   "cell_type": "code",
   "execution_count": 8,
   "metadata": {},
   "outputs": [
    {
     "name": "stdout",
     "output_type": "stream",
     "text": [
      "artist: Simon & Garfunkel\n",
      "song: Sparrow [Live]\n",
      "means:\n",
      "[ 7.47133413e-08  2.50704772e-08  1.10198719e-07  9.35300335e-08\n",
      "  4.78718825e-08 -5.09711029e-08 -5.58966491e-08 -1.60938072e-07\n",
      "  8.71378987e-08  4.94768351e-08 -1.32270292e-08  1.73777703e-08\n",
      "  1.15252249e-07 -1.21713569e-07 -1.59388467e-08  5.84701105e-08\n",
      "  9.52456745e-08 -1.13453595e-07 -1.09095319e-08  2.19712568e-08]\n",
      "var:\n",
      "[0.9999995  0.99999964 1.0000006  1.0000002  1.0000001  0.99999964\n",
      " 1.0000008  1.0000004  1.0000006  0.9999994  0.99999875 0.99999976\n",
      " 1.0000011  1.         1.0000004  1.0000004  1.0000002  0.9999999\n",
      " 1.0000007  0.9999995 ]\n"
     ]
    },
    {
     "data": {
      "text/plain": [
       "<matplotlib.axes._subplots.AxesSubplot at 0x1d8f71f4488>"
      ]
     },
     "execution_count": 8,
     "metadata": {},
     "output_type": "execute_result"
    },
    {
     "data": {
      "image/png": "[encoded data removed]",
      "text/plain": [
       "<Figure size 432x288 with 1 Axes>"
      ]
     },
     "metadata": {
      "needs_background": "light"
     },
     "output_type": "display_data"
    }
   ],
   "source": [
    "#test to see if what we have extracted make sense\n",
    "i=40\n",
    "print(\"artist: \"+x[i][\"artist\"])\n",
    "print(\"song: \"+x[i][\"song\"])\n",
    "mfcc=x[i][\"mfcc\"]\n",
    "print(\"means:\")\n",
    "print(mfcc.mean(axis=0))\n",
    "print(\"var:\")\n",
    "print(mfcc.var(axis=0))\n",
    "librosa.display.specshow(mfcc.T, sr=fs, x_axis='time')"
   ]
  },
  {
   "cell_type": "code",
   "execution_count": 9,
   "metadata": {},
   "outputs": [],
   "source": [
    "#create a big matrix containing all mfcc of all songs of all artists\n",
    "features=numpy.empty((1,20))\n",
    "for t in x:\n",
    "    features=numpy.vstack((features, t[\"mfcc\"]))\n",
    "features=numpy.delete(features,0,0)"
   ]
  },
  {
   "cell_type": "code",
   "execution_count": 10,
   "metadata": {},
   "outputs": [],
   "source": [
    "#creating labels of each frame relative to the artist\n",
    "#0= Ed Sheeran\n",
    "#1= Luciano Ligabue\n",
    "#2= Simon & Garfunkel\n",
    "\n",
    "ES,LL,SG=0,0,0\n",
    "for t in x:\n",
    "    if t[\"artist\"]==\"Ed Sheeran\":\n",
    "        ES=ES+t[\"mfcc\"].shape[0]\n",
    "    elif t[\"artist\"]==\"Ligabue\":\n",
    "        LL=LL+t[\"mfcc\"].shape[0]\n",
    "    elif t[\"artist\"]==\"Simon & Garfunkel\":\n",
    "        SG=SG+t[\"mfcc\"].shape[0]\n",
    "#print(ES)\n",
    "#print(LL)\n",
    "#print(SG)\n",
    "labels = numpy.concatenate((numpy.zeros(ES), numpy.ones(LL),numpy.full(SG, 2)))\n",
    "#labels"
   ]
  },
  {
   "cell_type": "code",
   "execution_count": 18,
   "metadata": {},
   "outputs": [
    {
     "data": {
      "text/plain": [
       "106019"
      ]
     },
     "execution_count": 18,
     "metadata": {},
     "output_type": "execute_result"
    }
   ],
   "source": [
    "#creating also song labels\n",
    "song_labels=[]\n",
    "for t in x:\n",
    "    for _ in range(t[\"mfcc\"].shape[0]):\n",
    "        song_labels.append(t[\"song\"])\n",
    "#len(song_labels)"
   ]
  },
  {
   "cell_type": "code",
   "execution_count": 19,
   "metadata": {},
   "outputs": [
    {
     "name": "stdout",
     "output_type": "stream",
     "text": [
      "(79514, 20)\n",
      "(26505, 20)\n",
      "(79514,)\n",
      "(26505,)\n",
      "79514\n",
      "26505\n"
     ]
    }
   ],
   "source": [
    "#create train/test split\n",
    "X_train, X_test, y_train, y_test ,song_train, song_test = sklearn.model_selection.train_test_split(features, labels, song_labels, random_state=1)\n",
    "print(X_train.shape)\n",
    "print(X_test.shape)\n",
    "print(y_train.shape)\n",
    "print(y_test.shape)\n",
    "print(len(song_train))\n",
    "print(len(song_test))"
   ]
  },
  {
   "cell_type": "code",
   "execution_count": 12,
   "metadata": {},
   "outputs": [
    {
     "data": {
      "text/plain": [
       "array([[7695,  444,  629],\n",
       "       [ 581, 6062,  379],\n",
       "       [ 879,  581, 9255]], dtype=int64)"
      ]
     },
     "execution_count": 12,
     "metadata": {},
     "output_type": "execute_result"
    }
   ],
   "source": [
    "#using knn to classify frames to each artist\n",
    "knn = sklearn.neighbors.KNeighborsClassifier(n_neighbors=5, metric='euclidean')\n",
    "knn.fit(X_train, y_train)\n",
    "y_pred = knn.predict(X_test)\n",
    "sklearn.metrics.confusion_matrix(y_test, y_pred)"
   ]
  },
  {
   "cell_type": "code",
   "execution_count": 29,
   "metadata": {},
   "outputs": [],
   "source": [
    "#classify each song to the artist for which the majority of its\n",
    "#frames have been classified\n",
    "for canzone in set(song_labels):\n",
    "    v=[y_pred[u] for u in range(len(y_pred)) if song_labels[u] == canzone]\n",
    "    "
   ]
  },
  {
   "cell_type": "code",
   "execution_count": 30,
   "metadata": {},
   "outputs": [
    {
     "data": {
      "text/plain": [
       "[]"
      ]
     },
     "execution_count": 30,
     "metadata": {},
     "output_type": "execute_result"
    }
   ],
   "source": [
    "v"
   ]
  },
  {
   "cell_type": "code",
   "execution_count": null,
   "metadata": {},
   "outputs": [],
   "source": []
  }
 ],
 "metadata": {
  "kernelspec": {
   "display_name": "Python 3",
   "language": "python",
   "name": "python3"
  },
  "language_info": {
   "codemirror_mode": {
    "name": "ipython",
    "version": 3
   },
   "file_extension": ".py",
   "mimetype": "text/x-python",
   "name": "python",
   "nbconvert_exporter": "python",
   "pygments_lexer": "ipython3",
   "version": "3.7.4"
  }
 },
 "nbformat": 4,
 "nbformat_minor": 2
}
