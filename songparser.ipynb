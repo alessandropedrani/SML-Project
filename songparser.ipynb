{
 "cells": [
  {
   "cell_type": "code",
   "execution_count": 67,
   "metadata": {},
   "outputs": [],
   "source": [
    "import os\n",
    "import sys\n",
    "import numpy, scipy, matplotlib.pyplot as plt, sklearn, librosa, urllib, IPython.display\n",
    "plt.rcParams['figure.figsize'] = (14,4)\n",
    "\n"
   ]
  },
  {
   "cell_type": "code",
   "execution_count": 111,
   "metadata": {},
   "outputs": [],
   "source": [
    "def create_song_list(walk_dir):\n",
    "    x = {}\n",
    "    #c = 0\n",
    "    for root, subdirs, files in os.walk(walk_dir):\n",
    "        for filename in files:\n",
    "            if \".mp3\" in filename:\n",
    "                file_path = os.path.join(root, filename)\n",
    "                artist=root.split(\"\\\\\")[1]\n",
    "                song=filename.split(\" \",1)[1].split(\".\")[0]\n",
    "                if artist not in x:\n",
    "                    x[artist] = []\n",
    "                x[artist].append((song,file_path))\n",
    "                #print(file_path)\n",
    "                #x.append({\"artist\": artist,\"song\": song,\"path\":file_path})\n",
    "                #a, fs = librosa.load(file_path)\n",
    "                #mfcc = librosa.feature.mfcc(a, sr=fs).t\n",
    "                #x.append({\"artist\": artist,\"song\": song,\"mfcc\":mfcc})\n",
    "    return(x)"
   ]
  },
  {
   "cell_type": "code",
   "execution_count": 113,
   "metadata": {},
   "outputs": [
    {
     "data": {
      "text/plain": [
       "{'Ed Sheeran': [('Eraser', 'canzoni\\\\Ed Sheeran\\\\÷ [Deluxe]\\\\01 Eraser.mp3'),\n",
       "  ('Castle On The Hill',\n",
       "   'canzoni\\\\Ed Sheeran\\\\÷ [Deluxe]\\\\02 Castle On The Hill.mp3'),\n",
       "  ('Dive', 'canzoni\\\\Ed Sheeran\\\\÷ [Deluxe]\\\\03 Dive.mp3'),\n",
       "  ('Shape Of You', 'canzoni\\\\Ed Sheeran\\\\÷ [Deluxe]\\\\04 Shape Of You.mp3'),\n",
       "  ('Perfect', 'canzoni\\\\Ed Sheeran\\\\÷ [Deluxe]\\\\05 Perfect.mp3'),\n",
       "  ('Galway Girl', 'canzoni\\\\Ed Sheeran\\\\÷ [Deluxe]\\\\06 Galway Girl.mp3'),\n",
       "  ('Happier', 'canzoni\\\\Ed Sheeran\\\\÷ [Deluxe]\\\\07 Happier.mp3'),\n",
       "  ('New Man', 'canzoni\\\\Ed Sheeran\\\\÷ [Deluxe]\\\\08 New Man.mp3'),\n",
       "  (\"Hearts Don't Break Around Here\",\n",
       "   \"canzoni\\\\Ed Sheeran\\\\÷ [Deluxe]\\\\09 Hearts Don't Break Around Here.mp3\"),\n",
       "  ('What Do I Know-',\n",
       "   'canzoni\\\\Ed Sheeran\\\\÷ [Deluxe]\\\\10 What Do I Know-.mp3'),\n",
       "  ('How Would You Feel (Paean)',\n",
       "   'canzoni\\\\Ed Sheeran\\\\÷ [Deluxe]\\\\11 How Would You Feel (Paean).mp3'),\n",
       "  ('Supermarket Flowers',\n",
       "   'canzoni\\\\Ed Sheeran\\\\÷ [Deluxe]\\\\12 Supermarket Flowers.mp3'),\n",
       "  ('Barcelona', 'canzoni\\\\Ed Sheeran\\\\÷ [Deluxe]\\\\13 Barcelona.mp3'),\n",
       "  ('Bibia Be Ye Ye', 'canzoni\\\\Ed Sheeran\\\\÷ [Deluxe]\\\\14 Bibia Be Ye Ye.mp3'),\n",
       "  ('Nancy Mulligan', 'canzoni\\\\Ed Sheeran\\\\÷ [Deluxe]\\\\15 Nancy Mulligan.mp3'),\n",
       "  ('Save Myself', 'canzoni\\\\Ed Sheeran\\\\÷ [Deluxe]\\\\16 Save Myself.mp3')],\n",
       " 'Ligabue': [('Il Muro Del Suono',\n",
       "   'canzoni\\\\Ligabue\\\\Mondovisione\\\\01 Il Muro Del Suono.mp3'),\n",
       "  ('Siamo Chi Siamo',\n",
       "   'canzoni\\\\Ligabue\\\\Mondovisione\\\\02 Siamo Chi Siamo.mp3'),\n",
       "  ('Il Volume Delle Tue Bugie',\n",
       "   'canzoni\\\\Ligabue\\\\Mondovisione\\\\03 Il Volume Delle Tue Bugie.mp3'),\n",
       "  ('La Neve Se Ne Frega',\n",
       "   'canzoni\\\\Ligabue\\\\Mondovisione\\\\04 La Neve Se Ne Frega.mp3'),\n",
       "  ('Il Sale Della Terra',\n",
       "   'canzoni\\\\Ligabue\\\\Mondovisione\\\\05 Il Sale Della Terra.mp3'),\n",
       "  ('Capo Spartivento',\n",
       "   'canzoni\\\\Ligabue\\\\Mondovisione\\\\06 Capo Spartivento.mp3'),\n",
       "  ('Tu Sei Lei', 'canzoni\\\\Ligabue\\\\Mondovisione\\\\07 Tu Sei Lei.mp3'),\n",
       "  ('Nati Per Vivere (Adesso E Qui)',\n",
       "   'canzoni\\\\Ligabue\\\\Mondovisione\\\\08 Nati Per Vivere (Adesso E Qui).mp3'),\n",
       "  ('La Terra Trema, Amore Mio',\n",
       "   'canzoni\\\\Ligabue\\\\Mondovisione\\\\09 La Terra Trema, Amore Mio.mp3'),\n",
       "  ('Per Sempre', 'canzoni\\\\Ligabue\\\\Mondovisione\\\\10 Per Sempre.mp3'),\n",
       "  ('Ciò Che Rimane Di Noi',\n",
       "   'canzoni\\\\Ligabue\\\\Mondovisione\\\\11 Ciò Che Rimane Di Noi.mp3'),\n",
       "  ('Il Suono, Il Brutto E Il Cattivo',\n",
       "   'canzoni\\\\Ligabue\\\\Mondovisione\\\\12 Il Suono, Il Brutto E Il Cattivo.mp3'),\n",
       "  (\"Con La Scusa Del Rock'N'Roll\",\n",
       "   \"canzoni\\\\Ligabue\\\\Mondovisione\\\\13 Con La Scusa Del Rock'N'Roll.mp3\"),\n",
       "  ('Sono Sempre I Sogni A Dare Forma Al Mondo',\n",
       "   'canzoni\\\\Ligabue\\\\Mondovisione\\\\14 Sono Sempre I Sogni A Dare Forma Al Mondo.mp3')],\n",
       " 'Simon & Garfunkel': [('The Sound Of Silence (Album Version)',\n",
       "   'canzoni\\\\Simon & Garfunkel\\\\The Essential Simon & Garfunkel [Disc 1]\\\\01 The Sound Of Silence (Album Version).mp3'),\n",
       "  ('Wednesday Morning, 3 A',\n",
       "   'canzoni\\\\Simon & Garfunkel\\\\The Essential Simon & Garfunkel [Disc 1]\\\\02 Wednesday Morning, 3 A.M (Live).mp3'),\n",
       "  ('Bye Bye Love (Album Version)',\n",
       "   'canzoni\\\\Simon & Garfunkel\\\\The Essential Simon & Garfunkel [Disc 1]\\\\03 Bye Bye Love (Album Version).mp3'),\n",
       "  ('Bleecker Street (Album Version)',\n",
       "   'canzoni\\\\Simon & Garfunkel\\\\The Essential Simon & Garfunkel [Disc 1]\\\\04 Bleecker Street (Album Version).mp3'),\n",
       "  ('I Am A Rock (Album Version)',\n",
       "   'canzoni\\\\Simon & Garfunkel\\\\The Essential Simon & Garfunkel [Disc 1]\\\\05 I Am A Rock (Album Version).mp3'),\n",
       "  ('A Most Peculiar Man [Live]',\n",
       "   'canzoni\\\\Simon & Garfunkel\\\\The Essential Simon & Garfunkel [Disc 1]\\\\06 A Most Peculiar Man [Live].mp3'),\n",
       "  ('Richard Cory (Album Version)',\n",
       "   'canzoni\\\\Simon & Garfunkel\\\\The Essential Simon & Garfunkel [Disc 1]\\\\07 Richard Cory (Album Version).mp3'),\n",
       "  (\"Kathy's Song [Live]\",\n",
       "   \"canzoni\\\\Simon & Garfunkel\\\\The Essential Simon & Garfunkel [Disc 1]\\\\08 Kathy's Song [Live].mp3\"),\n",
       "  ('Scarborough Fair-Canticle (Album Version)',\n",
       "   'canzoni\\\\Simon & Garfunkel\\\\The Essential Simon & Garfunkel [Disc 1]\\\\09 Scarborough Fair-Canticle (Album Version).mp3'),\n",
       "  ('Homeward Bound (Album Version)',\n",
       "   'canzoni\\\\Simon & Garfunkel\\\\The Essential Simon & Garfunkel [Disc 1]\\\\10 Homeward Bound (Album Version).mp3'),\n",
       "  ('Sparrow [Live]',\n",
       "   'canzoni\\\\Simon & Garfunkel\\\\The Essential Simon & Garfunkel [Disc 1]\\\\11 Sparrow [Live].mp3'),\n",
       "  ('Leaves That Are Green [Live]',\n",
       "   'canzoni\\\\Simon & Garfunkel\\\\The Essential Simon & Garfunkel [Disc 1]\\\\12 Leaves That Are Green [Live].mp3'),\n",
       "  ('He Was My Brother (Album Version)',\n",
       "   'canzoni\\\\Simon & Garfunkel\\\\The Essential Simon & Garfunkel [Disc 1]\\\\13 He Was My Brother (Album Version).mp3'),\n",
       "  (\"The 59th Street Bridge Song (feelin' Groovy) (Album Version)\",\n",
       "   \"canzoni\\\\Simon & Garfunkel\\\\The Essential Simon & Garfunkel [Disc 1]\\\\14 The 59th Street Bridge Song (feelin' Groovy) (Album Version).mp3\"),\n",
       "  ('The Dangling Conversation (Album Version)',\n",
       "   'canzoni\\\\Simon & Garfunkel\\\\The Essential Simon & Garfunkel [Disc 1]\\\\15 The Dangling Conversation (Album Version).mp3'),\n",
       "  ('A Poem On The Underground Wall [Live]',\n",
       "   'canzoni\\\\Simon & Garfunkel\\\\The Essential Simon & Garfunkel [Disc 1]\\\\16 A Poem On The Underground Wall [Live].mp3'),\n",
       "  ('Blessed [Live]',\n",
       "   'canzoni\\\\Simon & Garfunkel\\\\The Essential Simon & Garfunkel [Disc 1]\\\\17 Blessed [Live].mp3'),\n",
       "  ('Cloudy (Album Version)',\n",
       "   'canzoni\\\\Simon & Garfunkel\\\\The Essential Simon & Garfunkel [Disc 1]\\\\18 Cloudy (Album Version).mp3'),\n",
       "  ('Blues Run The Game (Album Version)',\n",
       "   'canzoni\\\\Simon & Garfunkel\\\\The Essential Simon & Garfunkel [Disc 1]\\\\19 Blues Run The Game (Album Version).mp3'),\n",
       "  ('A Hazy Shade Of Winter (Album Version)',\n",
       "   'canzoni\\\\Simon & Garfunkel\\\\The Essential Simon & Garfunkel [Disc 1]\\\\20 A Hazy Shade Of Winter (Album Version).mp3')]}"
      ]
     },
     "execution_count": 113,
     "metadata": {},
     "output_type": "execute_result"
    }
   ],
   "source": [
    "x=create_song_list(\"canzoni\")\n",
    "x"
   ]
  },
  {
   "cell_type": "code",
   "execution_count": 103,
   "metadata": {},
   "outputs": [
    {
     "data": {
      "text/plain": [
       "'canzoni\\\\Ed Sheeran\\\\÷ [Deluxe]\\\\01 Eraser.mp3'"
      ]
     },
     "execution_count": 103,
     "metadata": {},
     "output_type": "execute_result"
    }
   ],
   "source": [
    "path=x[0][\"path\"]\n",
    "path\n",
    "#x, fs = librosa.load('canzoni\\\\Ed Sheeran\\\\÷ [Deluxe]\\\\01 Eraser.mp3')"
   ]
  },
  {
   "cell_type": "code",
   "execution_count": null,
   "metadata": {},
   "outputs": [],
   "source": []
  }
 ],
 "metadata": {
  "kernelspec": {
   "display_name": "Python 3",
   "language": "python",
   "name": "python3"
  },
  "language_info": {
   "codemirror_mode": {
    "name": "ipython",
    "version": 3
   },
   "file_extension": ".py",
   "mimetype": "text/x-python",
   "name": "python",
   "nbconvert_exporter": "python",
   "pygments_lexer": "ipython3",
   "version": "3.7.4"
  }
 },
 "nbformat": 4,
 "nbformat_minor": 2
}
